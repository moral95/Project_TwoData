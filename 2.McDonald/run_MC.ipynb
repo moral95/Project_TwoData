{
 "cells": [
  {
   "cell_type": "code",
   "execution_count": 2,
   "metadata": {},
   "outputs": [
    {
     "name": "stdout",
     "output_type": "stream",
     "text": [
      "2023-07-23 15:11:11.013366: I tensorflow/core/platform/cpu_feature_guard.cc:193] This TensorFlow binary is optimized with oneAPI Deep Neural Network Library (oneDNN) to use the following CPU instructions in performance-critical operations:  SSE4.1 SSE4.2 AVX AVX2 AVX512F FMA\n",
      "To enable them in other operations, rebuild TensorFlow with the appropriate compiler flags.\n",
      "{'training': {'batch_size': 32, 'learning_rate': 0.0001, 'num_epochs': 5, 'weight_decay': 0.01, 'gradient_clipping': True, 'grad_clip': 5.0, 'seed': 5657, 'patience': 5}, 'model': {'dropout_rate': 0.1, 'num_classes': 5}, 'paths': {'annotation_path': '/NasData/home/lsh/10.project/data/mcdonalds/McDonald_s_Reviews.csv', 'model_save_path': './save/MC.pth'}}\n",
      "train_dataset : 20037\n",
      "val_dataset : 6679\n",
      "We use the cuda:2\n",
      "Figure(640x480)\n",
      "Figure(640x480)\n",
      " 24%|█████████▊                               | 150/627 [03:21<10:35,  1.33s/it]"
     ]
    }
   ],
   "source": [
    "!python Mc_train.py"
   ]
  },
  {
   "cell_type": "code",
   "execution_count": null,
   "metadata": {},
   "outputs": [
    {
     "name": "stderr",
     "output_type": "stream",
     "text": [
      "/tmp/ipykernel_10053/877389803.py:3: UserWarning: Implicit dimension choice for softmax has been deprecated. Change the call to include dim=X as an argument.\n",
      "  a = torch.nn.functional.softmax(a)\n"
     ]
    },
    {
     "data": {
      "text/plain": [
       "tensor([0, 3, 3, 2, 4, 0, 1, 3, 3, 0, 3, 2, 4, 0, 2, 2])"
      ]
     },
     "execution_count": 34,
     "metadata": {},
     "output_type": "execute_result"
    }
   ],
   "source": []
  }
 ],
 "metadata": {
  "kernelspec": {
   "display_name": "NewG",
   "language": "python",
   "name": "python3"
  },
  "language_info": {
   "codemirror_mode": {
    "name": "ipython",
    "version": 3
   },
   "file_extension": ".py",
   "mimetype": "text/x-python",
   "name": "python",
   "nbconvert_exporter": "python",
   "pygments_lexer": "ipython3",
   "version": "3.9.16"
  },
  "orig_nbformat": 4
 },
 "nbformat": 4,
 "nbformat_minor": 2
}
